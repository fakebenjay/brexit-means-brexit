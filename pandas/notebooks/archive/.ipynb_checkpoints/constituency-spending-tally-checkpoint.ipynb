{
 "cells": [
  {
   "cell_type": "code",
   "execution_count": 20,
   "metadata": {},
   "outputs": [],
   "source": [
    "import pandas as pd\n",
    "import numpy as np"
   ]
  },
  {
   "cell_type": "code",
   "execution_count": 21,
   "metadata": {},
   "outputs": [],
   "source": [
    "population = pd.read_csv('../data/dist-population.csv')"
   ]
  },
  {
   "cell_type": "code",
   "execution_count": 22,
   "metadata": {},
   "outputs": [],
   "source": [
    "results = pd.read_csv('../data/EU-referendum-result-data.csv')"
   ]
  },
  {
   "cell_type": "code",
   "execution_count": 23,
   "metadata": {},
   "outputs": [],
   "source": [
    "spending = pd.read_csv('../data/spending.csv')"
   ]
  },
  {
   "cell_type": "code",
   "execution_count": 36,
   "metadata": {},
   "outputs": [],
   "source": [
    "def gbp_to_float(str):\n",
    "    str.replace('£', '')\n",
    "    return float"
   ]
  },
  {
   "cell_type": "code",
   "execution_count": 15,
   "metadata": {},
   "outputs": [
    {
     "data": {
      "text/plain": [
       "my_eu_id                           object\n",
       "postcode                           object\n",
       "project_title                      object\n",
       "organisation_name                  object\n",
       "eu_contribution_gbp                object\n",
       "project_eu_contribution_gbp        object\n",
       "project_total_cost_gbp             object\n",
       "start_date                         object\n",
       "end_date                           object\n",
       "project_url                        object\n",
       "organisation_url                   object\n",
       "my_eu_url                          object\n",
       "parliamentary_constituency_name    object\n",
       "dtype: object"
      ]
     },
     "execution_count": 15,
     "metadata": {},
     "output_type": "execute_result"
    }
   ],
   "source": [
    "spending.dtypes"
   ]
  },
  {
   "cell_type": "code",
   "execution_count": 34,
   "metadata": {},
   "outputs": [],
   "source": [
    "spending.eu_contribution_gbp = spending.eu_contribution_gbp.replace('£','')"
   ]
  },
  {
   "cell_type": "code",
   "execution_count": 35,
   "metadata": {},
   "outputs": [
    {
     "data": {
      "text/plain": [
       "0          £106,135.80\n",
       "1          £750,031.00\n",
       "2          £239,786.00\n",
       "3          £211,645.00\n",
       "4          £530,670.00\n",
       "5                  NaN\n",
       "6                  NaN\n",
       "7                  NaN\n",
       "8                  NaN\n",
       "9                  NaN\n",
       "10       £2,724,984.00\n",
       "11       £4,722,910.00\n",
       "12          £24,669.00\n",
       "13          £22,187.00\n",
       "14       £2,413,553.00\n",
       "15       £1,700,601.00\n",
       "16          £65,918.00\n",
       "17                 NaN\n",
       "18                 NaN\n",
       "19          £37,036.00\n",
       "20                 NaN\n",
       "21                 NaN\n",
       "22                 NaN\n",
       "23                 NaN\n",
       "24                 NaN\n",
       "25                 NaN\n",
       "26         £239,256.00\n",
       "27          £81,346.00\n",
       "28          £41,062.00\n",
       "29           £8,226.00\n",
       "             ...      \n",
       "47974       £60,000.00\n",
       "47975       £60,000.00\n",
       "47976              NaN\n",
       "47977              NaN\n",
       "47978              NaN\n",
       "47979              NaN\n",
       "47980              NaN\n",
       "47981      £500,021.00\n",
       "47982              NaN\n",
       "47983              NaN\n",
       "47984              NaN\n",
       "47985              NaN\n",
       "47986              NaN\n",
       "47987              NaN\n",
       "47988              NaN\n",
       "47989              NaN\n",
       "47990       £32,861.00\n",
       "47991              NaN\n",
       "47992              NaN\n",
       "47993              NaN\n",
       "47994              NaN\n",
       "47995              NaN\n",
       "47996              NaN\n",
       "47997              NaN\n",
       "47998              NaN\n",
       "47999    £1,994,854.00\n",
       "48000        £7,825.00\n",
       "48001              NaN\n",
       "48002              NaN\n",
       "48003      £315,703.00\n",
       "Name: eu_contribution_gbp, Length: 48004, dtype: object"
      ]
     },
     "execution_count": 35,
     "metadata": {},
     "output_type": "execute_result"
    }
   ],
   "source": [
    "spending.eu_contribution_gbp"
   ]
  },
  {
   "cell_type": "code",
   "execution_count": null,
   "metadata": {},
   "outputs": [],
   "source": []
  }
 ],
 "metadata": {
  "kernelspec": {
   "display_name": "Python 3",
   "language": "python",
   "name": "python3"
  },
  "language_info": {
   "codemirror_mode": {
    "name": "ipython",
    "version": 3
   },
   "file_extension": ".py",
   "mimetype": "text/x-python",
   "name": "python",
   "nbconvert_exporter": "python",
   "pygments_lexer": "ipython3",
   "version": "3.7.0"
  }
 },
 "nbformat": 4,
 "nbformat_minor": 2
}
